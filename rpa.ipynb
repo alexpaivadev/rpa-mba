{
 "cells": [
  {
   "cell_type": "code",
   "execution_count": 2,
   "id": "64351069",
   "metadata": {},
   "outputs": [],
   "source": [
    "import pandas as pd\n",
    "from selenium import webdriver\n",
    "from selenium.webdriver.common.by import By\n",
    "import time"
   ]
  },
  {
   "cell_type": "code",
   "execution_count": 11,
   "id": "2626bf37",
   "metadata": {},
   "outputs": [],
   "source": [
    "navegador = webdriver.Chrome()\n",
    "navegador.get(\"https://xperiun.com/ed/masterlive-n8n/\")\n",
    "\n",
    "time.sleep(3)\n",
    "\n",
    "# Localiza o elemento de entrada de texto e insere o valor\n",
    "navegador.find_element(By.XPATH, '//*[@id=\"fullname\"]').send_keys(\"Alex Paiva\")\n",
    "time.sleep(1)\n",
    "navegador.find_element(By.XPATH, '//*[@id=\"email\"]').send_keys(\"oficial.alexpaiva@gmail.com\")\n",
    "time.sleep(1)\n",
    "navegador.find_element(By.XPATH, '//*[@id=\"phone\"]').send_keys(88993139277)"
   ]
  },
  {
   "cell_type": "code",
   "execution_count": null,
   "id": "43cfa657",
   "metadata": {},
   "outputs": [],
   "source": []
  }
 ],
 "metadata": {
  "kernelspec": {
   "display_name": ".venv",
   "language": "python",
   "name": "python3"
  },
  "language_info": {
   "codemirror_mode": {
    "name": "ipython",
    "version": 3
   },
   "file_extension": ".py",
   "mimetype": "text/x-python",
   "name": "python",
   "nbconvert_exporter": "python",
   "pygments_lexer": "ipython3",
   "version": "3.13.3"
  }
 },
 "nbformat": 4,
 "nbformat_minor": 5
}
