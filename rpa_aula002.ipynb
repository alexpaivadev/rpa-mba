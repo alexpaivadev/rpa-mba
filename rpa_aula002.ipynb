{
 "cells": [
  {
   "cell_type": "code",
   "execution_count": 31,
   "id": "dcba6083",
   "metadata": {},
   "outputs": [],
   "source": [
    "from selenium import webdriver\n",
    "from selenium.webdriver.chrome.service import Service\n",
    "from selenium.webdriver.chrome.options import Options\n",
    "from selenium.webdriver.common.by import By\n",
    "from selenium.webdriver.common.keys import Keys\n",
    "from webdriver_manager.chrome import ChromeDriverManager\n",
    "import time\n",
    "\n",
    "import pandas as pd\n",
    "import re\n",
    "import warnings"
   ]
  },
  {
   "cell_type": "code",
   "execution_count": 36,
   "id": "7975ef93",
   "metadata": {},
   "outputs": [],
   "source": [
    "warnings.filterwarnings(\"ignore\")"
   ]
  },
  {
   "cell_type": "code",
   "execution_count": 37,
   "id": "df9d6ad6",
   "metadata": {},
   "outputs": [],
   "source": [
    "# Configura as ChromeOptions\n",
    "chrome_options = Options()\n",
    "chrome_options.add_experimental_option(\"excludeSwitches\", [\"enable-automation\"])\n",
    "\n",
    "# Inicializa o driver com as opções configuradas\n",
    "driver = webdriver.Chrome(options=chrome_options)\n",
    "\n",
    "# Maximiza a janela do navegador (como na pergunta anterior)\n",
    "driver.maximize_window()\n",
    "\n",
    "# Navega para uma URL (opcional, apenas para demonstração)\n",
    "driver.get(\"https://web.whatsapp.com/\")\n",
    "\n",
    "# driver.quit()"
   ]
  },
  {
   "cell_type": "code",
   "execution_count": 46,
   "id": "8c752499",
   "metadata": {},
   "outputs": [],
   "source": [
    "spans_with_title = driver.find_elements(By.XPATH, '//span[@title]')\n"
   ]
  },
  {
   "cell_type": "code",
   "execution_count": 47,
   "id": "ee05ead6",
   "metadata": {},
   "outputs": [],
   "source": [
    "titles = [span.get_attribute('title') for span in spans_with_title]\n",
    "titles_sorted = sorted(titles, key=len, reverse=True)\n",
    "numbers_list = [item.strip() for item in titles_sorted[0].split(',')]\n"
   ]
  },
  {
   "cell_type": "code",
   "execution_count": 48,
   "id": "de3828f5",
   "metadata": {},
   "outputs": [],
   "source": [
    "df = pd.DataFrame(numbers_list, columns=['Whatsapp'])\n",
    "df = df[~df['Whatsapp'].str.contains('mais', case=False, na=False)]\n",
    "\n",
    "def limpar_numero(numero):\n",
    "    return re.sub(r'[+()\\-\\s]', '', numero)\n",
    "\n",
    "df['Numero limpo'] = df['Whatsapp'].apply(limpar_numero)\n",
    "\n",
    "df['Link'] = df['Numero limpo'].apply(lambda x: f\"https://web.whatsapp.com/send?phone={x}\")\n",
    "\n",
    "\n",
    "df.drop_duplicates(inplace=True)\n",
    "\n",
    "nome_grupo = 'AVISO reboque'\n",
    "\n",
    "df['Grupo'] = nome_grupo\n",
    "\n",
    "df[['Whatsapp','Link','Grupo']]\n",
    "\n",
    "# df[['Whatsapp','Link','Grupo']].to_excel('contatos_whatsapp.xlsx',index=False)\n",
    "\n",
    "df.to_excel('contatosreboque_whatsapp.xlsx',index=False)"
   ]
  }
 ],
 "metadata": {
  "kernelspec": {
   "display_name": ".venv",
   "language": "python",
   "name": "python3"
  },
  "language_info": {
   "codemirror_mode": {
    "name": "ipython",
    "version": 3
   },
   "file_extension": ".py",
   "mimetype": "text/x-python",
   "name": "python",
   "nbconvert_exporter": "python",
   "pygments_lexer": "ipython3",
   "version": "3.13.3"
  }
 },
 "nbformat": 4,
 "nbformat_minor": 5
}
