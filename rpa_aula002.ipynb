{
 "cells": [
  {
   "cell_type": "code",
   "execution_count": 44,
   "id": "dcba6083",
   "metadata": {},
   "outputs": [],
   "source": [
    "from selenium import webdriver\n",
    "from selenium.webdriver.chrome.service import Service\n",
    "from selenium.webdriver.chrome.options import Options\n",
    "from selenium.webdriver.common.by import By\n",
    "from selenium.webdriver.common.keys import Keys\n",
    "from webdriver_manager.chrome import ChromeDriverManager\n",
    "import time\n",
    "\n",
    "import pandas as pd\n",
    "import re\n",
    "import warnings"
   ]
  },
  {
   "cell_type": "code",
   "execution_count": 45,
   "id": "7975ef93",
   "metadata": {},
   "outputs": [],
   "source": [
    "warnings.filterwarnings(\"ignore\")"
   ]
  },
  {
   "cell_type": "code",
   "execution_count": 46,
   "id": "df9d6ad6",
   "metadata": {},
   "outputs": [],
   "source": [
    "# Configura as ChromeOptions\n",
    "chrome_options = Options()\n",
    "chrome_options.add_experimental_option(\"excludeSwitches\", [\"enable-automation\"])\n",
    "\n",
    "# Inicializa o driver com as opções configuradas\n",
    "driver = webdriver.Chrome(options=chrome_options)\n",
    "\n",
    "# Maximiza a janela do navegador (como na pergunta anterior)\n",
    "driver.maximize_window()\n",
    "\n",
    "# Navega para uma URL (opcional, apenas para demonstração)\n",
    "driver.get(\"https://web.whatsapp.com/\")\n",
    "\n",
    "# driver.quit()"
   ]
  }
 ],
 "metadata": {
  "kernelspec": {
   "display_name": ".venv",
   "language": "python",
   "name": "python3"
  },
  "language_info": {
   "codemirror_mode": {
    "name": "ipython",
    "version": 3
   },
   "file_extension": ".py",
   "mimetype": "text/x-python",
   "name": "python",
   "nbconvert_exporter": "python",
   "pygments_lexer": "ipython3",
   "version": "3.13.3"
  }
 },
 "nbformat": 4,
 "nbformat_minor": 5
}
